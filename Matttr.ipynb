{
 "cells": [
  {
   "cell_type": "code",
   "execution_count": 1,
   "metadata": {
    "collapsed": true
   },
   "outputs": [
    {
     "name": "stdout",
     "output_type": "stream",
     "text": [
      "Collecting pytube\n",
      "  Downloading pytube-12.1.2-py3-none-any.whl (57 kB)\n",
      "Installing collected packages: pytube\n",
      "Successfully installed pytube-12.1.2\n",
      "Note: you may need to restart the kernel to use updated packages.\n"
     ]
    }
   ],
   "source": [
    "pip install pytube"
   ]
  },
  {
   "cell_type": "code",
   "execution_count": 2,
   "metadata": {
    "collapsed": true
   },
   "outputs": [
    {
     "name": "stdout",
     "output_type": "stream",
     "text": [
      "Collecting git+https://github.com/openai/whisper.git\n",
      "  Cloning https://github.com/openai/whisper.git to c:\\users\\seraf\\appdata\\local\\temp\\pip-req-build-pq6tpetc\n",
      "Requirement already satisfied (use --upgrade to upgrade): whisper==1.0 from git+https://github.com/openai/whisper.git in d:\\anaconda\\lib\\site-packages\n",
      "Requirement already satisfied: numpy in d:\\anaconda\\lib\\site-packages (from whisper==1.0) (1.23.1)\n",
      "Requirement already satisfied: torch in d:\\anaconda\\lib\\site-packages (from whisper==1.0) (1.12.0)\n",
      "Requirement already satisfied: tqdm in d:\\anaconda\\lib\\site-packages (from whisper==1.0) (4.47.0)\n",
      "Requirement already satisfied: more-itertools in d:\\anaconda\\lib\\site-packages (from whisper==1.0) (8.4.0)\n",
      "Requirement already satisfied: transformers>=4.19.0 in d:\\anaconda\\lib\\site-packages (from whisper==1.0) (4.24.0)\n",
      "Requirement already satisfied: ffmpeg-python==0.2.0 in d:\\anaconda\\lib\\site-packages (from whisper==1.0) (0.2.0)\n",
      "Requirement already satisfied: typing_extensions in d:\\anaconda\\lib\\site-packages (from torch->whisper==1.0) (4.4.0)\n",
      "Requirement already satisfied: requests in d:\\anaconda\\lib\\site-packages (from transformers>=4.19.0->whisper==1.0) (2.24.0)\n",
      "Requirement already satisfied: packaging>=20.0 in d:\\anaconda\\lib\\site-packages (from transformers>=4.19.0->whisper==1.0) (20.4)\n",
      "Requirement already satisfied: filelock in d:\\anaconda\\lib\\site-packages (from transformers>=4.19.0->whisper==1.0) (3.0.12)\n",
      "Requirement already satisfied: huggingface-hub<1.0,>=0.10.0 in d:\\anaconda\\lib\\site-packages (from transformers>=4.19.0->whisper==1.0) (0.10.1)\n",
      "Requirement already satisfied: tokenizers!=0.11.3,<0.14,>=0.11.1 in d:\\anaconda\\lib\\site-packages (from transformers>=4.19.0->whisper==1.0) (0.13.2)\n",
      "Requirement already satisfied: pyyaml>=5.1 in d:\\anaconda\\lib\\site-packages (from transformers>=4.19.0->whisper==1.0) (5.3.1)\n",
      "Requirement already satisfied: regex!=2019.12.17 in d:\\anaconda\\lib\\site-packages (from transformers>=4.19.0->whisper==1.0) (2020.6.8)\n",
      "Requirement already satisfied: future in d:\\anaconda\\lib\\site-packages (from ffmpeg-python==0.2.0->whisper==1.0) (0.18.2)\n",
      "Requirement already satisfied: idna<3,>=2.5 in d:\\anaconda\\lib\\site-packages (from requests->transformers>=4.19.0->whisper==1.0) (2.10)\n",
      "Requirement already satisfied: certifi>=2017.4.17 in d:\\anaconda\\lib\\site-packages (from requests->transformers>=4.19.0->whisper==1.0) (2020.6.20)\n",
      "Requirement already satisfied: urllib3!=1.25.0,!=1.25.1,<1.26,>=1.21.1 in d:\\anaconda\\lib\\site-packages (from requests->transformers>=4.19.0->whisper==1.0) (1.25.9)\n",
      "Requirement already satisfied: chardet<4,>=3.0.2 in d:\\anaconda\\lib\\site-packages (from requests->transformers>=4.19.0->whisper==1.0) (3.0.4)\n",
      "Requirement already satisfied: pyparsing>=2.0.2 in d:\\anaconda\\lib\\site-packages (from packaging>=20.0->transformers>=4.19.0->whisper==1.0) (2.4.7)\n",
      "Requirement already satisfied: six in c:\\users\\seraf\\appdata\\roaming\\python\\python38\\site-packages (from packaging>=20.0->transformers>=4.19.0->whisper==1.0) (1.15.0)\n",
      "Building wheels for collected packages: whisper\n",
      "  Building wheel for whisper (setup.py): started\n",
      "  Building wheel for whisper (setup.py): finished with status 'done'\n",
      "  Created wheel for whisper: filename=whisper-1.0-py3-none-any.whl size=1175328 sha256=78f81d76ea89ce19e410b761eb3efe8020bccc47d620c0c8397acf96ddb3400f\n",
      "  Stored in directory: C:\\Users\\seraf\\AppData\\Local\\Temp\\pip-ephem-wheel-cache-xlpxx8sy\\wheels\\a7\\70\\18\\b7693c07b1d18b3dafb328f5d0496aa0d41a9c09ef332fd8e6\n",
      "Successfully built whisper\n"
     ]
    },
    {
     "name": "stderr",
     "output_type": "stream",
     "text": [
      "  Running command git clone -q https://github.com/openai/whisper.git 'C:\\Users\\seraf\\AppData\\Local\\Temp\\pip-req-build-pq6tpetc'\n"
     ]
    },
    {
     "name": "stdout",
     "output_type": "stream",
     "text": [
      "Requirement already satisfied: setuptools-rust in d:\\anaconda\\lib\\site-packages (1.5.2)\n",
      "Requirement already satisfied: semantic-version<3,>=2.8.2 in d:\\anaconda\\lib\\site-packages (from setuptools-rust) (2.10.0)\n",
      "Requirement already satisfied: setuptools>=62.4 in d:\\anaconda\\lib\\site-packages (from setuptools-rust) (65.5.1)\n",
      "Requirement already satisfied: typing-extensions>=3.7.4.3 in d:\\anaconda\\lib\\site-packages (from setuptools-rust) (4.4.0)\n"
     ]
    }
   ],
   "source": [
    "!pip install git+https://github.com/openai/whisper.git \n",
    "!pip install setuptools-rust"
   ]
  },
  {
   "cell_type": "code",
   "execution_count": 8,
   "metadata": {},
   "outputs": [
    {
     "name": "stdout",
     "output_type": "stream",
     "text": [
      "Collecting youtube-dl\n",
      "  Downloading youtube_dl-2021.12.17-py2.py3-none-any.whl (1.9 MB)\n",
      "Installing collected packages: youtube-dl\n",
      "Successfully installed youtube-dl-2021.12.17\n",
      "Note: you may need to restart the kernel to use updated packages.\n"
     ]
    }
   ],
   "source": [
    "pip install --upgrade youtube-dl"
   ]
  },
  {
   "cell_type": "code",
   "execution_count": 2,
   "metadata": {},
   "outputs": [],
   "source": [
    "from pytube import YouTube\n",
    "import os\n",
    "import whisper"
   ]
  },
  {
   "cell_type": "code",
   "execution_count": 3,
   "metadata": {},
   "outputs": [],
   "source": [
    "def downloadYouTube(videourl):\n",
    "\n",
    "    yt = YouTube(videourl)\n",
    "    yt = yt.streams.filter(only_audio = True).first() # convert to mp3\n",
    "    \n",
    "    out_file = yt.download()\n",
    "    new_file = \"hwsrr2021r4.mp3\"\n",
    "    os.rename(out_file, new_file)\n",
    "\n",
    "downloadYouTube('https://www.youtube.com/watch?v=E7aD8iSx1CM&t=3027s7s')"
   ]
  },
  {
   "cell_type": "code",
   "execution_count": 4,
   "metadata": {},
   "outputs": [
    {
     "name": "stderr",
     "output_type": "stream",
     "text": [
      "D:\\anaconda\\lib\\site-packages\\whisper\\transcribe.py:78: UserWarning: FP16 is not supported on CPU; using FP32 instead\n",
      "  warnings.warn(\"FP16 is not supported on CPU; using FP32 instead\")\n"
     ]
    },
    {
     "name": "stdout",
     "output_type": "stream",
     "text": [
      " I'll start my speech in three. So a few things to deal with the problem is only one. This is dramatic change meaning the equal political fiat to do things. Oh, I'm so sorry. What's happening with me? Hello. What's happening man? Oh no. What else? Let me just double check everything. Yeah, yeah, no worries at all. That's not my bad. Hello. Is this okay now? Yeah, it sounds better now. So I think you can just restart your speech. All right. Okay, cool. I'll start my speech again in three, two, one. So to deal with the problem is to achieve many things. One, this is dramatic political change. They don't tell us why alternatives with the equal political fiat to literally change the whole justice system to do things like decongest prison systems, ensure better laws and regulations for petty crimes, ensure deprivatization and some instances that it is harmful are things that are unlikely to be pursued. They don't give any compelling like reasons to why it's the only way to solve these problems. But secondly, if their problem is abuse, I will show why it's not which the exclusive and in fact flip the material after. So two things, number one, again, the equal political fiat to all these changes is just unclear why we cannot pursue other alternatives. Number two, the equal political incentives to put people in prisons and be harsh just don't change if it's a hard on crime narrative that you want to be able to pursue. But let's flip it. Hey, these are not things that are difficult to counter check. At best, they say people can see into these things, but I'm not sure why the public who will have records or will be able to watch every single simulation as opposed to documentation of shared prison systems that everyone goes through. Are things that they are unable to see as a result. But secondly, it's the fact that it's not human interaction. There's a better chance that a guard, like someone in prison, is more likely to be humane to another human being. As opposed to the interpretation, this is just a set of pixels, such that it's easier to code things like punishment because you're not harming a real person, you are harming a simulation. But thirdly, it is the fact precisely that it seems kind of fake. It seems kind of unreal that people are either likely to ensure either greater forms of punishment and not as a simulation. You still feel abuse because of the fact that you have to compensate for the fact that it doesn't seem real. Or that you punish a larger group of individuals. Things like petty crimes and the same people they call very vulnerable that they talk about are the ones most likely to undergo these kinds of punishments now, had they not done so before. And so far as they feel like it is okay, given that they're not going to lose anything in particular anyway, all the conclusions that they claim are just not likely to be any better on their side at all. They're CG. Since these are still real people, all of this will fall under control and usual punishment on rethink any reasonable justice system will not allow that we don't think that's a reasonable comparative to happen. No, no, it's not the difference in the punishment. It is the difference in the perception of this punishment that matters. I'd say political will shifts dramatically on your side. I'll take open and government that they have one as well. On your side, the fact that prisoners are continuously locked up, they are literally made to seem lesser than and there are tons of campaigns that say, ah, we're locking these people up. It's fine. We can do whatever we want to them. And the reason is exactly why prisons are black boxes when no one knows what goes on, which is why abuse is never checked. Again, so the comparative is that is that black box stronger when it is simulation that is individually have to check every single one when it is not something that people can viscerally see or one where just equal it easier to have documentation. It's easier to have reporting. It's easier to ensure that you can check these things as opposed to them being just simulations in someone's mind. I will do three things in this speech. Number one, and explain what we have worse deterrence on their side. So what are the motivations for crime? I'd say a significant number of them are cost benefit analysis. I will do a crime precisely because it is one that benefits me. Things like out of economic necessity. Things like joining organized crime groups and gangs. I would note that you change this cost benefit analysis and so far as you remove the punishment of time. And therefore people can go back to their daily lives after a crime has been committed. A lot of the problems they note can be solved for by ensuring a stronger social security system within states. Not one that can be solved for just changing the prison system as a whole when it comes to families that are left behind. But why is deterrence particularly important? These crimes are particularly dangerous. They can psychologically harm someone. They can economically ravage someone. There are things like murder or things that are just very dangerous for the average individual to take on. I would note it's not just that. But large crimes within communities as a whole. Decrease investment. Decrease political will and so far as people take that these are crime-ridden communities that ought not be protected. And I'd note the principle weighing here. I'd say number one is on scale. Even if locking up someone could potentially harm a family. It is much more dangerous that one criminal can harm multiple other human beings and affect their families as well as a bigger harm on scale. But secondly in terms of innocence. I'd say the consequences are best recorded to the particular individual that this affects. Note that this cost benefit analysis is much stronger on our side when the punishment is better and therefore they're just less willing to pursue this crime in the first place. Secondly on protection. I.e. that we protect other people when we lock particular people up. And note that the biggest change happens here when time and presence are crucial for individuals to commit these kinds of crime. So note that this is particularly important in syndicated organizations in crime in organized crime where the biggest harms of crime are likely to be able to occur. Note that a lot of the things like breaking down the American mafia system after RICO was only possible because we locked them up one by one and ensure that they could not go back. They could not lead specific groups and it served a significant deterrent as to other people as well. And so far as they can go back to their daily lives if their daily lives were already consisting of crime. Therefore it is much easier to commit a lot of these crimes once more, the point in which we cannot protect the rest of society by locking them up to the time that happens. So I note that number one, this is an important swath of crime especially in the developing world where organized crime is the most common form. But secondly, it is also an insurance that we are able to protect the rest of greater society by ensuring that these people cannot possibly commit crimes again by being locked up for a significant amount of time. They have to be able to balance the rights here and therefore we argue innocent human beings who have never been affected before all take priority over criminals as a result. Thirdly, on retribution. So the first thing I want to note is that the harm of a crime is one that is massively tangible and you cannot approximate that with the invisible nature of a simulation that people are unable to see. And therefore on principle we would argue that people have the right to be able to observe how the right to be able to know that they're rapists, that the person who murdered the people that they were close to, people who have stolen from them are ordered to be proportionate form of punishment. But even.\n"
     ]
    }
   ],
   "source": [
    "model = whisper.load_model(\"base\")\n",
    "result = model.transcribe(\"hwsrr2021r4.mp3\")\n",
    "transcription = result[\"text\"]\n",
    "print(transcription)"
   ]
  },
  {
   "cell_type": "code",
   "execution_count": null,
   "metadata": {},
   "outputs": [],
   "source": []
  }
 ],
 "metadata": {
  "kernelspec": {
   "display_name": "Python 3",
   "language": "python",
   "name": "python3"
  },
  "language_info": {
   "codemirror_mode": {
    "name": "ipython",
    "version": 3
   },
   "file_extension": ".py",
   "mimetype": "text/x-python",
   "name": "python",
   "nbconvert_exporter": "python",
   "pygments_lexer": "ipython3",
   "version": "3.8.3"
  }
 },
 "nbformat": 4,
 "nbformat_minor": 4
}
